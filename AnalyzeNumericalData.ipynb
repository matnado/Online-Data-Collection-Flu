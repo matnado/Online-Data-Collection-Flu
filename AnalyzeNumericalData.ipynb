{
 "cells": [
  {
   "cell_type": "markdown",
   "metadata": {},
   "source": [
    "# Analyze numerical data\n",
    "Only the results documented in the paper are produced here"
   ]
  },
  {
   "cell_type": "code",
   "execution_count": 1,
   "metadata": {
    "scrolled": true
   },
   "outputs": [],
   "source": [
    "import warnings \n",
    "warnings.filterwarnings(\"ignore\", category=FutureWarning)\n",
    "import matplotlib.pyplot as plt\n",
    "import pandas as pd\n",
    "import seaborn as sns\n",
    "import dexplot as dxp\n",
    "import tikzplotlib\n",
    "from collections import Counter\n",
    "import scipy.stats as stats\n",
    "import statsmodels.api as sm\n",
    "from statsmodels.formula.api import ols\n",
    "from PIL import Image\n",
    "import numpy as np\n",
    "import copy\n",
    "from statsmodels.stats.multicomp import pairwise_tukeyhsd\n",
    "from statsmodels.stats.multicomp import MultiComparison\n",
    "import urllib\n",
    "import requests\n",
    "%matplotlib inline"
   ]
  },
  {
   "cell_type": "code",
   "execution_count": 2,
   "metadata": {
    "scrolled": false
   },
   "outputs": [
    {
     "data": {
      "text/html": [
       "<div>\n",
       "<style scoped>\n",
       "    .dataframe tbody tr th:only-of-type {\n",
       "        vertical-align: middle;\n",
       "    }\n",
       "\n",
       "    .dataframe tbody tr th {\n",
       "        vertical-align: top;\n",
       "    }\n",
       "\n",
       "    .dataframe thead th {\n",
       "        text-align: right;\n",
       "    }\n",
       "</style>\n",
       "<table border=\"1\" class=\"dataframe\">\n",
       "  <thead>\n",
       "    <tr style=\"text-align: right;\">\n",
       "      <th></th>\n",
       "      <th>What is your age?</th>\n",
       "      <th>What is your gender?</th>\n",
       "      <th>What is your current educational level?</th>\n",
       "      <th>Are you or any of your family members scientist or health professional?</th>\n",
       "      <th>Are you interested in flu prevention?</th>\n",
       "      <th>Did you take the flu vaccine in the last 12 months?</th>\n",
       "      <th>If you have children, did you vaccinate them or do you wish to vaccinate them?</th>\n",
       "      <th>Is a vaccine necessary for a disease-free population?</th>\n",
       "      <th>How many times we have to typically take a flu shot?</th>\n",
       "      <th>Is the flu shot accessible to all people?</th>\n",
       "      <th>How does the flu spread?</th>\n",
       "      <th>Why is it important that you become immune from flu?</th>\n",
       "      <th>What is the incubation period?</th>\n",
       "      <th>Condition</th>\n",
       "      <th>Points multiple choice</th>\n",
       "      <th>Points</th>\n",
       "      <th>PointsQ1Q2Q3</th>\n",
       "      <th>PointsQ4Q5Q6</th>\n",
       "      <th>Points all</th>\n",
       "    </tr>\n",
       "  </thead>\n",
       "  <tbody>\n",
       "    <tr>\n",
       "      <td>0</td>\n",
       "      <td>25.0</td>\n",
       "      <td>0</td>\n",
       "      <td>1</td>\n",
       "      <td>0</td>\n",
       "      <td>1</td>\n",
       "      <td>0</td>\n",
       "      <td>0</td>\n",
       "      <td>0</td>\n",
       "      <td>0</td>\n",
       "      <td>0</td>\n",
       "      <td>1</td>\n",
       "      <td>1</td>\n",
       "      <td>1</td>\n",
       "      <td>0</td>\n",
       "      <td>4</td>\n",
       "      <td>3</td>\n",
       "      <td>0</td>\n",
       "      <td>3</td>\n",
       "      <td>7</td>\n",
       "    </tr>\n",
       "    <tr>\n",
       "      <td>1</td>\n",
       "      <td>26.0</td>\n",
       "      <td>1</td>\n",
       "      <td>2</td>\n",
       "      <td>0</td>\n",
       "      <td>0</td>\n",
       "      <td>0</td>\n",
       "      <td>0</td>\n",
       "      <td>1</td>\n",
       "      <td>1</td>\n",
       "      <td>1</td>\n",
       "      <td>1</td>\n",
       "      <td>1</td>\n",
       "      <td>0</td>\n",
       "      <td>0</td>\n",
       "      <td>4</td>\n",
       "      <td>5</td>\n",
       "      <td>3</td>\n",
       "      <td>2</td>\n",
       "      <td>9</td>\n",
       "    </tr>\n",
       "    <tr>\n",
       "      <td>2</td>\n",
       "      <td>30.0</td>\n",
       "      <td>0</td>\n",
       "      <td>2</td>\n",
       "      <td>0</td>\n",
       "      <td>1</td>\n",
       "      <td>0</td>\n",
       "      <td>0</td>\n",
       "      <td>1</td>\n",
       "      <td>1</td>\n",
       "      <td>1</td>\n",
       "      <td>1</td>\n",
       "      <td>1</td>\n",
       "      <td>1</td>\n",
       "      <td>0</td>\n",
       "      <td>6</td>\n",
       "      <td>6</td>\n",
       "      <td>3</td>\n",
       "      <td>3</td>\n",
       "      <td>12</td>\n",
       "    </tr>\n",
       "    <tr>\n",
       "      <td>3</td>\n",
       "      <td>30.0</td>\n",
       "      <td>1</td>\n",
       "      <td>1</td>\n",
       "      <td>0</td>\n",
       "      <td>1</td>\n",
       "      <td>0</td>\n",
       "      <td>0</td>\n",
       "      <td>1</td>\n",
       "      <td>0</td>\n",
       "      <td>0</td>\n",
       "      <td>1</td>\n",
       "      <td>0</td>\n",
       "      <td>1</td>\n",
       "      <td>1</td>\n",
       "      <td>2</td>\n",
       "      <td>3</td>\n",
       "      <td>1</td>\n",
       "      <td>2</td>\n",
       "      <td>5</td>\n",
       "    </tr>\n",
       "    <tr>\n",
       "      <td>4</td>\n",
       "      <td>24.0</td>\n",
       "      <td>0</td>\n",
       "      <td>1</td>\n",
       "      <td>0</td>\n",
       "      <td>1</td>\n",
       "      <td>0</td>\n",
       "      <td>0</td>\n",
       "      <td>1</td>\n",
       "      <td>0</td>\n",
       "      <td>1</td>\n",
       "      <td>1</td>\n",
       "      <td>1</td>\n",
       "      <td>1</td>\n",
       "      <td>0</td>\n",
       "      <td>3</td>\n",
       "      <td>5</td>\n",
       "      <td>2</td>\n",
       "      <td>3</td>\n",
       "      <td>8</td>\n",
       "    </tr>\n",
       "  </tbody>\n",
       "</table>\n",
       "</div>"
      ],
      "text/plain": [
       "   What is your age? What is your gender?  \\\n",
       "0               25.0                    0   \n",
       "1               26.0                    1   \n",
       "2               30.0                    0   \n",
       "3               30.0                    1   \n",
       "4               24.0                    0   \n",
       "\n",
       "   What is your current educational level?  \\\n",
       "0                                        1   \n",
       "1                                        2   \n",
       "2                                        2   \n",
       "3                                        1   \n",
       "4                                        1   \n",
       "\n",
       "   Are you or any of your family members scientist or health professional?  \\\n",
       "0                                                  0                         \n",
       "1                                                  0                         \n",
       "2                                                  0                         \n",
       "3                                                  0                         \n",
       "4                                                  0                         \n",
       "\n",
       "   Are you interested in flu prevention?  \\\n",
       "0                                      1   \n",
       "1                                      0   \n",
       "2                                      1   \n",
       "3                                      1   \n",
       "4                                      1   \n",
       "\n",
       "   Did you take the flu vaccine in the last 12 months?  \\\n",
       "0                                                  0     \n",
       "1                                                  0     \n",
       "2                                                  0     \n",
       "3                                                  0     \n",
       "4                                                  0     \n",
       "\n",
       "   If you have children, did you vaccinate them or do you wish to vaccinate them?  \\\n",
       "0                                                  0                                \n",
       "1                                                  0                                \n",
       "2                                                  0                                \n",
       "3                                                  0                                \n",
       "4                                                  0                                \n",
       "\n",
       "   Is a vaccine necessary for a disease-free population?  \\\n",
       "0                                                  0       \n",
       "1                                                  1       \n",
       "2                                                  1       \n",
       "3                                                  1       \n",
       "4                                                  1       \n",
       "\n",
       "   How many times we have to typically take a flu shot?   \\\n",
       "0                                                  0       \n",
       "1                                                  1       \n",
       "2                                                  1       \n",
       "3                                                  0       \n",
       "4                                                  0       \n",
       "\n",
       "   Is the flu shot accessible to all people?   How does the flu spread?  \\\n",
       "0                                           0                         1   \n",
       "1                                           1                         1   \n",
       "2                                           1                         1   \n",
       "3                                           0                         1   \n",
       "4                                           1                         1   \n",
       "\n",
       "   Why is it important that you become immune from flu?   \\\n",
       "0                                                  1       \n",
       "1                                                  1       \n",
       "2                                                  1       \n",
       "3                                                  0       \n",
       "4                                                  1       \n",
       "\n",
       "   What is the incubation period?  Condition  Points multiple choice  Points  \\\n",
       "0                               1          0                       4       3   \n",
       "1                               0          0                       4       5   \n",
       "2                               1          0                       6       6   \n",
       "3                               1          1                       2       3   \n",
       "4                               1          0                       3       5   \n",
       "\n",
       "   PointsQ1Q2Q3  PointsQ4Q5Q6  Points all  \n",
       "0             0             3           7  \n",
       "1             3             2           9  \n",
       "2             3             3          12  \n",
       "3             1             2           5  \n",
       "4             2             3           8  "
      ]
     },
     "execution_count": 2,
     "metadata": {},
     "output_type": "execute_result"
    }
   ],
   "source": [
    "Cleaned_Data = pd.read_csv('./Output/CleanedNumericalData.csv')\n",
    "Cleaned_Data.head()"
   ]
  },
  {
   "cell_type": "markdown",
   "metadata": {},
   "source": [
    "### Hypothesis 1: determine which demographic information influences volunteers' score"
   ]
  },
  {
   "cell_type": "code",
   "execution_count": 3,
   "metadata": {},
   "outputs": [
    {
     "data": {
      "image/png": "[encoded data removed]",
      "text/plain": [
       "<Figure size 432x288 with 1 Axes>"
      ]
     },
     "metadata": {
      "needs_background": "light"
     },
     "output_type": "display_data"
    }
   ],
   "source": [
    "Cleaned_Data2 = copy.deepcopy(Cleaned_Data)\n",
    "sx = 'What is your current educational level?'\n",
    "sy= 'Points all'\n",
    "sns.boxplot(y=sy, x=sx, \n",
    "                 data=Cleaned_Data2, \n",
    "                 width=0.5,\n",
    "                 palette=\"colorblind\")\n",
    "tikzplotlib.save(\"./Output/Plots/Education_influence.tex\")"
   ]
  },
  {
   "cell_type": "code",
   "execution_count": 4,
   "metadata": {},
   "outputs": [
    {
     "name": "stdout",
     "output_type": "stream",
     "text": [
      "KruskalResult(statistic=22.729947245759526, pvalue=0.00014336655938912413)\n",
      "4 3\n",
      "51.5 0.005181840530717151\n",
      "4 1\n",
      "99.0 0.0009530146013569648\n",
      "4 0\n",
      "21.0 0.013542887958255966\n",
      "2 1\n",
      "287.5 0.0005245005644009251\n",
      "2 0\n",
      "65.0 0.013047889467819257\n"
     ]
    }
   ],
   "source": [
    "sx = 'What is your current educational level?'\n",
    "sy= 'Points all'\n",
    "Cleaned_DataPhD = copy.deepcopy(Cleaned_Data2[Cleaned_Data2[sx] == 4])\n",
    "Cleaned_DataMaster = copy.deepcopy(Cleaned_Data2[Cleaned_Data2[sx] == 3])\n",
    "Cleaned_DataBach = copy.deepcopy(Cleaned_Data2[Cleaned_Data2[sx] == 2])\n",
    "Cleaned_DataHigh = copy.deepcopy(Cleaned_Data2[Cleaned_Data2[sx] == 1])\n",
    "Cleaned_DataMiddle = copy.deepcopy(Cleaned_Data2[Cleaned_Data2[sx] == 0])\n",
    "ss = [Cleaned_DataPhD, Cleaned_DataMaster, Cleaned_DataBach, Cleaned_DataHigh, Cleaned_DataMiddle]\n",
    "print(stats.kruskal(Cleaned_DataPhD[sy], Cleaned_DataMaster[sy],Cleaned_DataBach[sy],\n",
    "                    Cleaned_DataHigh[sy],Cleaned_DataMiddle[sy]))\n",
    "for i in range(len(ss)):\n",
    "    for j in range(len(ss)):\n",
    "        if i<j:\n",
    "            statistics, p_value = stats.mannwhitneyu(ss[i][sy], ss[j][sy],\n",
    "                                                     use_continuity = False, alternative = 'two-sided')\n",
    "            if p_value<0.05:\n",
    "                print(ss[i][sx].values[0], ss[j][sx].values[0])\n",
    "                print(statistics, p_value)"
   ]
  },
  {
   "cell_type": "code",
   "execution_count": 5,
   "metadata": {
    "scrolled": false
   },
   "outputs": [
    {
     "data": {
      "image/png": "[encoded data removed]",
      "text/plain": [
       "<Figure size 432x288 with 1 Axes>"
      ]
     },
     "metadata": {
      "needs_background": "light"
     },
     "output_type": "display_data"
    }
   ],
   "source": [
    "Cleaned_Data2 = copy.deepcopy(Cleaned_Data)\n",
    "sx = 'Are you interested in flu prevention?'\n",
    "sy= 'Points all'\n",
    "sns.boxplot(y=sy, x=sx, \n",
    "                 data=Cleaned_Data2, \n",
    "                 width=0.5,\n",
    "                 palette=\"colorblind\")\n",
    "tikzplotlib.save(\"./Output/Plots/Interest_flu_prevention_influence.tex\")"
   ]
  },
  {
   "cell_type": "code",
   "execution_count": 6,
   "metadata": {},
   "outputs": [
    {
     "data": {
      "text/plain": [
       "MannwhitneyuResult(statistic=267.5, pvalue=0.016478032427231067)"
      ]
     },
     "execution_count": 6,
     "metadata": {},
     "output_type": "execute_result"
    }
   ],
   "source": [
    "sx = 'Are you interested in flu prevention?'\n",
    "sy= 'Points all'\n",
    "Cleaned_DataExp = copy.deepcopy(Cleaned_Data2[Cleaned_Data2[sx] == 1])\n",
    "Cleaned_DataCon = copy.deepcopy(Cleaned_Data2[Cleaned_Data2[sx] == 0])\n",
    "stats.mannwhitneyu(Cleaned_DataExp[sy], Cleaned_DataCon[sy],\n",
    "                                                 use_continuity = False, alternative = 'two-sided')"
   ]
  },
  {
   "cell_type": "code",
   "execution_count": 7,
   "metadata": {
    "scrolled": true
   },
   "outputs": [
    {
     "data": {
      "image/png": "[encoded data removed]",
      "text/plain": [
       "<Figure size 432x288 with 1 Axes>"
      ]
     },
     "metadata": {
      "needs_background": "light"
     },
     "output_type": "display_data"
    }
   ],
   "source": [
    "Cleaned_Data2 = copy.deepcopy(Cleaned_Data)\n",
    "sx = 'Did you take the flu vaccine in the last 12 months?'\n",
    "sy= 'PointsQ1Q2Q3'\n",
    "sns.boxplot(y=sy, x=sx, \n",
    "                 data=Cleaned_Data2, \n",
    "                 width=0.5,\n",
    "                 palette=\"colorblind\")\n",
    "tikzplotlib.save(\"./Output/Plots/Took_flu_vaccine_influence.tex\")"
   ]
  },
  {
   "cell_type": "code",
   "execution_count": 8,
   "metadata": {},
   "outputs": [
    {
     "data": {
      "text/plain": [
       "MannwhitneyuResult(statistic=390.0, pvalue=0.024612031734417346)"
      ]
     },
     "execution_count": 8,
     "metadata": {},
     "output_type": "execute_result"
    }
   ],
   "source": [
    "sx = 'Did you take the flu vaccine in the last 12 months?'\n",
    "sy= 'PointsQ1Q2Q3'\n",
    "Cleaned_DataExp = copy.deepcopy(Cleaned_Data2[Cleaned_Data2[sx] == 1])\n",
    "Cleaned_DataCon = copy.deepcopy(Cleaned_Data2[Cleaned_Data2[sx] == 0])\n",
    "stats.ranksums(Cleaned_DataExp[sy], Cleaned_DataCon[sy])\n",
    "stats.mannwhitneyu(Cleaned_DataExp[sy], Cleaned_DataCon[sy],\n",
    "                                                 use_continuity = False, alternative = 'two-sided')"
   ]
  },
  {
   "cell_type": "markdown",
   "metadata": {},
   "source": [
    "### Hypothesis 2: testing prediction based on Google Trends data.  "
   ]
  },
  {
   "cell_type": "code",
   "execution_count": 9,
   "metadata": {
    "scrolled": true
   },
   "outputs": [
    {
     "data": {
      "image/png": "[encoded data removed]",
      "text/plain": [
       "<Figure size 432x288 with 1 Axes>"
      ]
     },
     "metadata": {
      "needs_background": "light"
     },
     "output_type": "display_data"
    }
   ],
   "source": [
    "Cleaned_Data2 = copy.deepcopy(Cleaned_Data)\n",
    "Cleaned_Data2['PointsQ4Q5Q6'].tolist()\n",
    "data = {'Condition':['PointsQ1Q2Q3' for i in range(len(Cleaned_Data2['PointsQ1Q2Q3'].tolist()))]+['PointsQ4Q5Q6' for i in range(len(Cleaned_Data2['PointsQ4Q5Q6'].tolist()))],\n",
    "        'Points':Cleaned_Data2['PointsQ1Q2Q3'].tolist()+Cleaned_Data2['PointsQ4Q5Q6'].tolist()} \n",
    "  \n",
    "df = pd.DataFrame(data) \n",
    "df.head()\n",
    "sx = 'Condition'\n",
    "sy= 'Points'\n",
    "sns.boxplot(y=sy, x=sx, \n",
    "                 data=df, \n",
    "                 width=0.5,\n",
    "                 palette=\"colorblind\")\n",
    "tikzplotlib.save(\"./Output/Plots/Comparison_PointsQ1Q2Q3_PointsQ4Q5Q6.tex\")"
   ]
  },
  {
   "cell_type": "code",
   "execution_count": 10,
   "metadata": {},
   "outputs": [
    {
     "data": {
      "text/plain": [
       "WilcoxonResult(statistic=66.5, pvalue=0.00014868368058768813)"
      ]
     },
     "execution_count": 10,
     "metadata": {},
     "output_type": "execute_result"
    }
   ],
   "source": [
    "sy= 'Points'\n",
    "Cleaned_DataExp = copy.deepcopy(df[df[sx] == 'PointsQ1Q2Q3'])\n",
    "Cleaned_DataCon = copy.deepcopy(df[df[sx] == 'PointsQ4Q5Q6'])\n",
    "stats.ranksums(Cleaned_DataExp[sy], Cleaned_DataCon[sy])\n",
    "stats.wilcoxon(Cleaned_DataExp[sy], Cleaned_DataCon[sy])"
   ]
  },
  {
   "cell_type": "markdown",
   "metadata": {},
   "source": [
    "### Hypothesis 3: increasing the awareness in flu prevention through StopTheSpread  "
   ]
  },
  {
   "cell_type": "code",
   "execution_count": 11,
   "metadata": {},
   "outputs": [
    {
     "name": "stdout",
     "output_type": "stream",
     "text": [
      "0.75 0.5833333333333334\n",
      "0.5227272727272727 0.5\n",
      "0.6818181818181818 0.75\n",
      "0.8409090909090909 1.0\n",
      "0.8863636363636364 0.8333333333333334\n",
      "0.7727272727272727 0.9166666666666666\n",
      "0.6022727272727273 0.638888888888889\n",
      "0.6723484848484849 0.7013888888888888\n"
     ]
    },
    {
     "data": {
      "text/plain": [
       "<BarContainer object of 16 artists>"
      ]
     },
     "execution_count": 11,
     "metadata": {},
     "output_type": "execute_result"
    },
    {
     "data": {
      "image/png": "[encoded data removed]",
      "text/plain": [
       "<Figure size 432x288 with 1 Axes>"
      ]
     },
     "metadata": {
      "needs_background": "light"
     },
     "output_type": "display_data"
    }
   ],
   "source": [
    "s= ['Is a vaccine necessary for a disease-free population?',\n",
    "       'How many times we have to typically take a flu shot? ',\n",
    "       'Is the flu shot accessible to all people? ',\n",
    "       'How does the flu spread?',\n",
    "       'Why is it important that you become immune from flu? ',\n",
    "        'What is the incubation period?',\n",
    "       'Points multiple choice', 'Points all']\n",
    "\n",
    "name = ['Q1C', 'Q1E', 'Q2C', 'Q2E','Q3C', \n",
    "        'Q3E', 'Q4C', 'Q4E', 'Q5C', 'Q5E', 'Q6C', 'Q6E','Q7C', 'Q7E', 'AllC', 'AllD']\n",
    "\n",
    "\n",
    "Cleaned_Data2 = copy.deepcopy(Cleaned_Data)\n",
    "sss = 'Condition'\n",
    "Cleaned_Data2 = Cleaned_Data2[Cleaned_Data2[sss] == 0]\n",
    "dataC = []\n",
    "for i in range(len(s)):\n",
    "    if i ==len(s)-2:\n",
    "        dataC.append(Cleaned_Data2[s[i]].mean()/6.)\n",
    "    elif i ==len(s)-1:\n",
    "        dataC.append(Cleaned_Data2[s[i]].mean()/12.)\n",
    "    else:\n",
    "        dataC.append(Cleaned_Data2[s[i]].mean())\n",
    "        \n",
    "Cleaned_Data2 = copy.deepcopy(Cleaned_Data)\n",
    "sss = 'Condition'\n",
    "Cleaned_Data2 = Cleaned_Data2[Cleaned_Data2[sss] == 1]\n",
    "dataE = []\n",
    "for i in range(len(s)):\n",
    "    if i ==len(s)-2:\n",
    "        dataE.append(Cleaned_Data2[s[i]].mean()/6.)\n",
    "    elif i ==len(s)-1:\n",
    "        dataE.append(Cleaned_Data2[s[i]].mean()/12.)\n",
    "    else:\n",
    "        dataE.append(Cleaned_Data2[s[i]].mean())\n",
    "Cleaned_Data2['Points multiple choice']=Cleaned_Data2['Points multiple choice']/6.\n",
    "\n",
    "data_corrected = []\n",
    "for i in range(len(dataC)):\n",
    "    data_corrected.append(dataC[i])\n",
    "    data_corrected.append(dataE[i])\n",
    "    print(dataC[i], dataE[i])\n",
    "    \n",
    "plt.bar(name,data_corrected)"
   ]
  },
  {
   "cell_type": "code",
   "execution_count": null,
   "metadata": {},
   "outputs": [],
   "source": []
  },
  {
   "cell_type": "code",
   "execution_count": null,
   "metadata": {},
   "outputs": [],
   "source": []
  }
 ],
 "metadata": {
  "kernelspec": {
   "display_name": "Python 3",
   "language": "python",
   "name": "python3"
  },
  "language_info": {
   "codemirror_mode": {
    "name": "ipython",
    "version": 3
   },
   "file_extension": ".py",
   "mimetype": "text/x-python",
   "name": "python",
   "nbconvert_exporter": "python",
   "pygments_lexer": "ipython3",
   "version": "3.7.4"
  }
 },
 "nbformat": 4,
 "nbformat_minor": 2
}
