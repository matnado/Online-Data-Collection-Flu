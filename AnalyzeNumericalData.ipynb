{
 "cells": [
  {
   "cell_type": "markdown",
   "metadata": {},
   "source": [
    "# Analyze numerical data\n",
    "Only the results documented in the paper are produced here"
   ]
  },
  {
   "cell_type": "code",
   "execution_count": 29,
   "metadata": {
    "scrolled": true
   },
   "outputs": [],
   "source": [
    "import warnings \n",
    "warnings.filterwarnings(\"ignore\", category=FutureWarning)\n",
    "import matplotlib.pyplot as plt\n",
    "import pandas as pd\n",
    "import seaborn as sns\n",
    "import dexplot as dxp\n",
    "import tikzplotlib\n",
    "from collections import Counter\n",
    "import scipy.stats as stats\n",
    "import statsmodels.api as sm\n",
    "from statsmodels.formula.api import ols\n",
    "from PIL import Image\n",
    "import numpy as np\n",
    "import copy\n",
    "from statsmodels.stats.multicomp import pairwise_tukeyhsd\n",
    "from statsmodels.stats.multicomp import MultiComparison\n",
    "import urllib\n",
    "import requests\n",
    "%matplotlib inline"
   ]
  },
  {
   "cell_type": "code",
   "execution_count": 30,
   "metadata": {},
   "outputs": [
    {
     "data": {
      "text/html": [
       "<div>\n",
       "<style scoped>\n",
       "    .dataframe tbody tr th:only-of-type {\n",
       "        vertical-align: middle;\n",
       "    }\n",
       "\n",
       "    .dataframe tbody tr th {\n",
       "        vertical-align: top;\n",
       "    }\n",
       "\n",
       "    .dataframe thead th {\n",
       "        text-align: right;\n",
       "    }\n",
       "</style>\n",
       "<table border=\"1\" class=\"dataframe\">\n",
       "  <thead>\n",
       "    <tr style=\"text-align: right;\">\n",
       "      <th></th>\n",
       "      <th>What is your age?</th>\n",
       "      <th>What is your gender?</th>\n",
       "      <th>What is your current educational level?</th>\n",
       "      <th>Are you or any of your family members scientist or health professional?</th>\n",
       "      <th>Are you interested in flu prevention?</th>\n",
       "      <th>Did you take the flu vaccine in the last 12 months?</th>\n",
       "      <th>If you have children, did you vaccinate them or do you wish to vaccinate them?</th>\n",
       "      <th>Is a vaccine necessary for a disease-free population?</th>\n",
       "      <th>How many times we have to typically take a flu shot?</th>\n",
       "      <th>Is the flu shot accessible to all people?</th>\n",
       "      <th>How does the flu spread?</th>\n",
       "      <th>Why is it important that you become immune from flu?</th>\n",
       "      <th>What is the incubation period?</th>\n",
       "      <th>Condition</th>\n",
       "      <th>Points multiple choice</th>\n",
       "      <th>Points</th>\n",
       "      <th>PointsQ1Q2Q3</th>\n",
       "      <th>PointsQ4Q5Q6</th>\n",
       "      <th>Points all</th>\n",
       "    </tr>\n",
       "  </thead>\n",
       "  <tbody>\n",
       "    <tr>\n",
       "      <th>0</th>\n",
       "      <td>25.0</td>\n",
       "      <td>0</td>\n",
       "      <td>0</td>\n",
       "      <td>0</td>\n",
       "      <td>1</td>\n",
       "      <td>0</td>\n",
       "      <td>0</td>\n",
       "      <td>0</td>\n",
       "      <td>0</td>\n",
       "      <td>0</td>\n",
       "      <td>1</td>\n",
       "      <td>1</td>\n",
       "      <td>1</td>\n",
       "      <td>0</td>\n",
       "      <td>4</td>\n",
       "      <td>3</td>\n",
       "      <td>0</td>\n",
       "      <td>3</td>\n",
       "      <td>7</td>\n",
       "    </tr>\n",
       "    <tr>\n",
       "      <th>1</th>\n",
       "      <td>26.0</td>\n",
       "      <td>1</td>\n",
       "      <td>1</td>\n",
       "      <td>0</td>\n",
       "      <td>0</td>\n",
       "      <td>0</td>\n",
       "      <td>0</td>\n",
       "      <td>1</td>\n",
       "      <td>1</td>\n",
       "      <td>1</td>\n",
       "      <td>1</td>\n",
       "      <td>1</td>\n",
       "      <td>0</td>\n",
       "      <td>0</td>\n",
       "      <td>4</td>\n",
       "      <td>5</td>\n",
       "      <td>3</td>\n",
       "      <td>2</td>\n",
       "      <td>9</td>\n",
       "    </tr>\n",
       "    <tr>\n",
       "      <th>2</th>\n",
       "      <td>30.0</td>\n",
       "      <td>0</td>\n",
       "      <td>1</td>\n",
       "      <td>0</td>\n",
       "      <td>1</td>\n",
       "      <td>0</td>\n",
       "      <td>0</td>\n",
       "      <td>1</td>\n",
       "      <td>1</td>\n",
       "      <td>1</td>\n",
       "      <td>1</td>\n",
       "      <td>1</td>\n",
       "      <td>1</td>\n",
       "      <td>0</td>\n",
       "      <td>6</td>\n",
       "      <td>6</td>\n",
       "      <td>3</td>\n",
       "      <td>3</td>\n",
       "      <td>12</td>\n",
       "    </tr>\n",
       "    <tr>\n",
       "      <th>3</th>\n",
       "      <td>30.0</td>\n",
       "      <td>1</td>\n",
       "      <td>0</td>\n",
       "      <td>0</td>\n",
       "      <td>1</td>\n",
       "      <td>0</td>\n",
       "      <td>0</td>\n",
       "      <td>1</td>\n",
       "      <td>0</td>\n",
       "      <td>0</td>\n",
       "      <td>1</td>\n",
       "      <td>0</td>\n",
       "      <td>1</td>\n",
       "      <td>1</td>\n",
       "      <td>2</td>\n",
       "      <td>3</td>\n",
       "      <td>1</td>\n",
       "      <td>2</td>\n",
       "      <td>5</td>\n",
       "    </tr>\n",
       "    <tr>\n",
       "      <th>4</th>\n",
       "      <td>24.0</td>\n",
       "      <td>0</td>\n",
       "      <td>0</td>\n",
       "      <td>0</td>\n",
       "      <td>1</td>\n",
       "      <td>0</td>\n",
       "      <td>0</td>\n",
       "      <td>1</td>\n",
       "      <td>0</td>\n",
       "      <td>1</td>\n",
       "      <td>1</td>\n",
       "      <td>1</td>\n",
       "      <td>1</td>\n",
       "      <td>0</td>\n",
       "      <td>3</td>\n",
       "      <td>5</td>\n",
       "      <td>2</td>\n",
       "      <td>3</td>\n",
       "      <td>8</td>\n",
       "    </tr>\n",
       "  </tbody>\n",
       "</table>\n",
       "</div>"
      ],
      "text/plain": [
       "   What is your age?  What is your gender?  \\\n",
       "0               25.0                     0   \n",
       "1               26.0                     1   \n",
       "2               30.0                     0   \n",
       "3               30.0                     1   \n",
       "4               24.0                     0   \n",
       "\n",
       "   What is your current educational level?  \\\n",
       "0                                        0   \n",
       "1                                        1   \n",
       "2                                        1   \n",
       "3                                        0   \n",
       "4                                        0   \n",
       "\n",
       "   Are you or any of your family members scientist or health professional?  \\\n",
       "0                                                  0                         \n",
       "1                                                  0                         \n",
       "2                                                  0                         \n",
       "3                                                  0                         \n",
       "4                                                  0                         \n",
       "\n",
       "   Are you interested in flu prevention?  \\\n",
       "0                                      1   \n",
       "1                                      0   \n",
       "2                                      1   \n",
       "3                                      1   \n",
       "4                                      1   \n",
       "\n",
       "   Did you take the flu vaccine in the last 12 months?  \\\n",
       "0                                                  0     \n",
       "1                                                  0     \n",
       "2                                                  0     \n",
       "3                                                  0     \n",
       "4                                                  0     \n",
       "\n",
       "   If you have children, did you vaccinate them or do you wish to vaccinate them?  \\\n",
       "0                                                  0                                \n",
       "1                                                  0                                \n",
       "2                                                  0                                \n",
       "3                                                  0                                \n",
       "4                                                  0                                \n",
       "\n",
       "   Is a vaccine necessary for a disease-free population?  \\\n",
       "0                                                  0       \n",
       "1                                                  1       \n",
       "2                                                  1       \n",
       "3                                                  1       \n",
       "4                                                  1       \n",
       "\n",
       "   How many times we have to typically take a flu shot?   \\\n",
       "0                                                  0       \n",
       "1                                                  1       \n",
       "2                                                  1       \n",
       "3                                                  0       \n",
       "4                                                  0       \n",
       "\n",
       "   Is the flu shot accessible to all people?   How does the flu spread?  \\\n",
       "0                                           0                         1   \n",
       "1                                           1                         1   \n",
       "2                                           1                         1   \n",
       "3                                           0                         1   \n",
       "4                                           1                         1   \n",
       "\n",
       "   Why is it important that you become immune from flu?   \\\n",
       "0                                                  1       \n",
       "1                                                  1       \n",
       "2                                                  1       \n",
       "3                                                  0       \n",
       "4                                                  1       \n",
       "\n",
       "   What is the incubation period?  Condition  Points multiple choice  Points  \\\n",
       "0                               1          0                       4       3   \n",
       "1                               0          0                       4       5   \n",
       "2                               1          0                       6       6   \n",
       "3                               1          1                       2       3   \n",
       "4                               1          0                       3       5   \n",
       "\n",
       "   PointsQ1Q2Q3  PointsQ4Q5Q6  Points all  \n",
       "0             0             3           7  \n",
       "1             3             2           9  \n",
       "2             3             3          12  \n",
       "3             1             2           5  \n",
       "4             2             3           8  "
      ]
     },
     "execution_count": 30,
     "metadata": {},
     "output_type": "execute_result"
    }
   ],
   "source": [
    "Cleaned_Data = pd.read_csv('./Output/CleanedNumericalData.csv')\n",
    "Cleaned_Data.head()"
   ]
  },
  {
   "cell_type": "code",
   "execution_count": 31,
   "metadata": {},
   "outputs": [
    {
     "data": {
      "text/plain": [
       "Index(['What is your age?', 'What is your gender?',\n",
       "       'What is your current educational level?',\n",
       "       'Are you or any of your family members scientist or health professional?',\n",
       "       'Are you interested in flu prevention?',\n",
       "       'Did you take the flu vaccine in the last 12 months?',\n",
       "       'If you have children, did you vaccinate them or do you wish to vaccinate them?',\n",
       "       'Is a vaccine necessary for a disease-free population?',\n",
       "       'How many times we have to typically take a flu shot? ',\n",
       "       'Is the flu shot accessible to all people? ',\n",
       "       'How does the flu spread?',\n",
       "       'Why is it important that you become immune from flu? ',\n",
       "       'What is the incubation period?', 'Condition', 'Points multiple choice',\n",
       "       'Points', 'PointsQ1Q2Q3', 'PointsQ4Q5Q6', 'Points all'],\n",
       "      dtype='object')"
      ]
     },
     "execution_count": 31,
     "metadata": {},
     "output_type": "execute_result"
    }
   ],
   "source": [
    "Cleaned_Data.columns"
   ]
  },
  {
   "cell_type": "markdown",
   "metadata": {},
   "source": [
    "### Check that the experimental and control groups are homogeneous"
   ]
  },
  {
   "cell_type": "code",
   "execution_count": 32,
   "metadata": {},
   "outputs": [
    {
     "name": "stdout",
     "output_type": "stream",
     "text": [
      "12 44\n",
      "What is your age?\n",
      "MannwhitneyuResult(statistic=269.5, pvalue=0.9123065024836765)\n",
      "What is your gender?\n",
      "MannwhitneyuResult(statistic=306.5, pvalue=0.3307307603093177)\n",
      "What is your current educational level?\n",
      "MannwhitneyuResult(statistic=314.0, pvalue=0.2868003671556595)\n",
      "Are you or any of your family members scientist or health professional?\n",
      "MannwhitneyuResult(statistic=280.0, pvalue=0.6830913983096087)\n",
      "Are you interested in flu prevention?\n",
      "MannwhitneyuResult(statistic=222.0, pvalue=0.14323490752466972)\n",
      "Did you take the flu vaccine in the last 12 months?\n",
      "MannwhitneyuResult(statistic=214.0, pvalue=0.1722275361364909)\n",
      "If you have children, did you vaccinate them or do you wish to vaccinate them?\n",
      "MannwhitneyuResult(statistic=224.0, pvalue=0.30743416592739536)\n"
     ]
    }
   ],
   "source": [
    "Cleaned_Data2 = copy.deepcopy(Cleaned_Data)\n",
    "sx = 'Condition'\n",
    "Cleaned_DataExp = copy.deepcopy(Cleaned_Data2[Cleaned_Data2[sx] == 1])\n",
    "Cleaned_DataCon = copy.deepcopy(Cleaned_Data2[Cleaned_Data2[sx] == 0])\n",
    "print(len(Cleaned_DataExp), len(Cleaned_DataCon))\n",
    "s = ['What is your age?', 'What is your gender?',\n",
    "       'What is your current educational level?',\n",
    "       'Are you or any of your family members scientist or health professional?',\n",
    "       'Are you interested in flu prevention?',\n",
    "       'Did you take the flu vaccine in the last 12 months?',\n",
    "       'If you have children, did you vaccinate them or do you wish to vaccinate them?']\n",
    "for sy in s:\n",
    "    print(sy)\n",
    "    print(stats.mannwhitneyu(Cleaned_DataExp[sy], Cleaned_DataCon[sy],\n",
    "                                                 use_continuity = False, alternative = 'two-sided'))"
   ]
  },
  {
   "cell_type": "markdown",
   "metadata": {},
   "source": [
    "### Analysis 1: determine which demographic information influences volunteers' score"
   ]
  },
  {
   "cell_type": "markdown",
   "metadata": {},
   "source": [
    "#### Significantly different quantities"
   ]
  },
  {
   "cell_type": "code",
   "execution_count": 33,
   "metadata": {},
   "outputs": [
    {
     "name": "stderr",
     "output_type": "stream",
     "text": [
      "/home/mat/anaconda3/lib/python3.7/site-packages/tikzplotlib/_axes.py:211: MatplotlibDeprecationWarning: Passing the minor parameter of get_xticks() positionally is deprecated since Matplotlib 3.2; the parameter will become keyword-only two minor releases later.\n",
      "  data, \"minor x\", obj.get_xticks(\"minor\"), obj.get_xticklabels(\"minor\")\n",
      "/home/mat/anaconda3/lib/python3.7/site-packages/tikzplotlib/_axes.py:216: MatplotlibDeprecationWarning: Passing the minor parameter of get_yticks() positionally is deprecated since Matplotlib 3.2; the parameter will become keyword-only two minor releases later.\n",
      "  data, \"minor y\", obj.get_yticks(\"minor\"), obj.get_yticklabels(\"minor\")\n"
     ]
    },
    {
     "data": {
      "image/png": "[encoded data removed]",
      "text/plain": [
       "<Figure size 432x288 with 1 Axes>"
      ]
     },
     "metadata": {
      "needs_background": "light"
     },
     "output_type": "display_data"
    }
   ],
   "source": [
    "Cleaned_Data2 = copy.deepcopy(Cleaned_Data)\n",
    "sx = 'What is your current educational level?'\n",
    "sy= 'Points all'\n",
    "sns.boxplot(y=sy, x=sx, \n",
    "                 data=Cleaned_Data2, \n",
    "                 width=0.5,\n",
    "                 palette=\"colorblind\")\n",
    "tikzplotlib.save(\"./Output/Plots/Education_influence.tex\")"
   ]
  },
  {
   "cell_type": "code",
   "execution_count": 34,
   "metadata": {},
   "outputs": [
    {
     "name": "stdout",
     "output_type": "stream",
     "text": [
      "KruskalResult(statistic=17.292794514518647, pvalue=0.0001757589230565015)\n",
      "2 1\n",
      "157.0 0.6382281085648528\n",
      "2 0\n",
      "223.5 0.001257837628951521\n",
      "1 0\n",
      "352.5 0.0001151428087685204\n"
     ]
    }
   ],
   "source": [
    "sx = 'What is your current educational level?'\n",
    "sy= 'Points all'\n",
    "Cleaned_DataMasterPhD = copy.deepcopy(Cleaned_Data2[Cleaned_Data2[sx] == 2])\n",
    "Cleaned_DataBach = copy.deepcopy(Cleaned_Data2[Cleaned_Data2[sx] == 1])\n",
    "Cleaned_DataHighMiddle = copy.deepcopy(Cleaned_Data2[Cleaned_Data2[sx] == 0])\n",
    "ss = [Cleaned_DataMasterPhD, Cleaned_DataBach, Cleaned_DataHighMiddle]\n",
    "print(stats.kruskal(Cleaned_DataHighMiddle[sy], Cleaned_DataMasterPhD[sy],Cleaned_DataBach[sy], ))\n",
    "\n",
    "for i in range(len(ss)):\n",
    "    for j in range(len(ss)):\n",
    "        if i<j:\n",
    "            W, p_value = stats.mannwhitneyu(ss[i][sy], ss[j][sy],  \n",
    "                                                     use_continuity = False, alternative = 'two-sided')\n",
    "            #if p_value<0.05:\n",
    "            print(ss[i][sx].values[0], ss[j][sx].values[0])\n",
    "            print(W, p_value)"
   ]
  },
  {
   "cell_type": "code",
   "execution_count": 35,
   "metadata": {},
   "outputs": [
    {
     "name": "stderr",
     "output_type": "stream",
     "text": [
      "/home/mat/anaconda3/lib/python3.7/site-packages/tikzplotlib/_axes.py:211: MatplotlibDeprecationWarning: Passing the minor parameter of get_xticks() positionally is deprecated since Matplotlib 3.2; the parameter will become keyword-only two minor releases later.\n",
      "  data, \"minor x\", obj.get_xticks(\"minor\"), obj.get_xticklabels(\"minor\")\n",
      "/home/mat/anaconda3/lib/python3.7/site-packages/tikzplotlib/_axes.py:216: MatplotlibDeprecationWarning: Passing the minor parameter of get_yticks() positionally is deprecated since Matplotlib 3.2; the parameter will become keyword-only two minor releases later.\n",
      "  data, \"minor y\", obj.get_yticks(\"minor\"), obj.get_yticklabels(\"minor\")\n"
     ]
    },
    {
     "data": {
      "image/png": "[encoded data removed]",
      "text/plain": [
       "<Figure size 432x288 with 1 Axes>"
      ]
     },
     "metadata": {
      "needs_background": "light"
     },
     "output_type": "display_data"
    }
   ],
   "source": [
    "Cleaned_Data2 = copy.deepcopy(Cleaned_Data)\n",
    "sx = 'Are you interested in flu prevention?'\n",
    "sy= 'Points all'\n",
    "sns.boxplot(y=sy, x=sx, \n",
    "                 data=Cleaned_Data2, \n",
    "                 width=0.5,\n",
    "                 palette=\"colorblind\")\n",
    "tikzplotlib.save(\"./Output/Plots/Interest_flu_prevention_influence.tex\")"
   ]
  },
  {
   "cell_type": "code",
   "execution_count": 36,
   "metadata": {},
   "outputs": [
    {
     "name": "stdout",
     "output_type": "stream",
     "text": [
      "MannwhitneyuResult(statistic=267.5, pvalue=0.016478032427231067)\n"
     ]
    }
   ],
   "source": [
    "sx = 'Are you interested in flu prevention?'\n",
    "sy= 'Points all'\n",
    "Cleaned_DataExp = copy.deepcopy(Cleaned_Data2[Cleaned_Data2[sx] == 1])\n",
    "Cleaned_DataCon = copy.deepcopy(Cleaned_Data2[Cleaned_Data2[sx] == 0])\n",
    "print(stats.mannwhitneyu(Cleaned_DataExp[sy], Cleaned_DataCon[sy],\n",
    "                                                 use_continuity = False, alternative = 'two-sided'))"
   ]
  },
  {
   "cell_type": "code",
   "execution_count": 37,
   "metadata": {
    "scrolled": true
   },
   "outputs": [
    {
     "name": "stderr",
     "output_type": "stream",
     "text": [
      "/home/mat/anaconda3/lib/python3.7/site-packages/tikzplotlib/_axes.py:211: MatplotlibDeprecationWarning: Passing the minor parameter of get_xticks() positionally is deprecated since Matplotlib 3.2; the parameter will become keyword-only two minor releases later.\n",
      "  data, \"minor x\", obj.get_xticks(\"minor\"), obj.get_xticklabels(\"minor\")\n",
      "/home/mat/anaconda3/lib/python3.7/site-packages/tikzplotlib/_axes.py:216: MatplotlibDeprecationWarning: Passing the minor parameter of get_yticks() positionally is deprecated since Matplotlib 3.2; the parameter will become keyword-only two minor releases later.\n",
      "  data, \"minor y\", obj.get_yticks(\"minor\"), obj.get_yticklabels(\"minor\")\n"
     ]
    },
    {
     "data": {
      "image/png": "[encoded data removed]",
      "text/plain": [
       "<Figure size 432x288 with 1 Axes>"
      ]
     },
     "metadata": {
      "needs_background": "light"
     },
     "output_type": "display_data"
    }
   ],
   "source": [
    "Cleaned_Data2 = copy.deepcopy(Cleaned_Data)\n",
    "sx = 'Did you take the flu vaccine in the last 12 months?'\n",
    "sy= 'PointsQ1Q2Q3'\n",
    "sns.boxplot(y=sy, x=sx, \n",
    "                 data=Cleaned_Data2, \n",
    "                 width=0.5,\n",
    "                 palette=\"colorblind\")\n",
    "tikzplotlib.save(\"./Output/Plots/Took_flu_vaccine_influence.tex\")"
   ]
  },
  {
   "cell_type": "code",
   "execution_count": 38,
   "metadata": {},
   "outputs": [
    {
     "name": "stdout",
     "output_type": "stream",
     "text": [
      "MannwhitneyuResult(statistic=390.0, pvalue=0.024612031734417346)\n"
     ]
    }
   ],
   "source": [
    "sx = 'Did you take the flu vaccine in the last 12 months?'\n",
    "sy= 'PointsQ1Q2Q3'\n",
    "Cleaned_DataExp = copy.deepcopy(Cleaned_Data2[Cleaned_Data2[sx] == 1])\n",
    "Cleaned_DataCon = copy.deepcopy(Cleaned_Data2[Cleaned_Data2[sx] == 0])\n",
    "print(stats.mannwhitneyu(Cleaned_DataExp[sy], Cleaned_DataCon[sy],\n",
    "                                                 use_continuity = False, alternative = 'two-sided'))"
   ]
  },
  {
   "cell_type": "markdown",
   "metadata": {},
   "source": [
    "#### Non-significantly different quantities"
   ]
  },
  {
   "cell_type": "code",
   "execution_count": 39,
   "metadata": {},
   "outputs": [
    {
     "name": "stdout",
     "output_type": "stream",
     "text": [
      "MannwhitneyuResult(statistic=379.5, pvalue=0.9660911220436786)\n"
     ]
    }
   ],
   "source": [
    "Cleaned_Data2 = copy.deepcopy(Cleaned_Data)\n",
    "sx = 'What is your gender?'\n",
    "sy= 'Points all'\n",
    "Cleaned_DataExp = copy.deepcopy(Cleaned_Data2[Cleaned_Data2[sx] == 1])\n",
    "Cleaned_DataCon = copy.deepcopy(Cleaned_Data2[Cleaned_Data2[sx] == 0])\n",
    "print(stats.mannwhitneyu(Cleaned_DataExp[sy], Cleaned_DataCon[sy],\n",
    "                                                 use_continuity = False, alternative = 'two-sided'))"
   ]
  },
  {
   "cell_type": "code",
   "execution_count": 40,
   "metadata": {},
   "outputs": [
    {
     "name": "stdout",
     "output_type": "stream",
     "text": [
      "MannwhitneyuResult(statistic=246.5, pvalue=0.17889776281236758)\n"
     ]
    }
   ],
   "source": [
    "Cleaned_Data2 = copy.deepcopy(Cleaned_Data)\n",
    "sx = 'If you have children, did you vaccinate them or do you wish to vaccinate them?'\n",
    "sy= 'Points all'\n",
    "Cleaned_DataExp = copy.deepcopy(Cleaned_Data2[Cleaned_Data2[sx] == 1])\n",
    "Cleaned_DataCon = copy.deepcopy(Cleaned_Data2[Cleaned_Data2[sx] == 0])\n",
    "print(stats.mannwhitneyu(Cleaned_DataExp[sy], Cleaned_DataCon[sy],\n",
    "                                                 use_continuity = False, alternative = 'two-sided'))"
   ]
  },
  {
   "cell_type": "code",
   "execution_count": 41,
   "metadata": {},
   "outputs": [
    {
     "name": "stdout",
     "output_type": "stream",
     "text": [
      "MannwhitneyuResult(statistic=379.5, pvalue=0.27653915796506234)\n"
     ]
    }
   ],
   "source": [
    "Cleaned_Data2 = copy.deepcopy(Cleaned_Data)\n",
    "sx = 'Are you or any of your family members scientist or health professional?'\n",
    "sy= 'Points all'\n",
    "Cleaned_DataExp = copy.deepcopy(Cleaned_Data2[Cleaned_Data2[sx] == 1])\n",
    "Cleaned_DataCon = copy.deepcopy(Cleaned_Data2[Cleaned_Data2[sx] == 0])\n",
    "print(stats.mannwhitneyu(Cleaned_DataExp[sy], Cleaned_DataCon[sy],\n",
    "                                                 use_continuity = False, alternative = 'two-sided'))"
   ]
  },
  {
   "cell_type": "code",
   "execution_count": 42,
   "metadata": {},
   "outputs": [
    {
     "name": "stdout",
     "output_type": "stream",
     "text": [
      "SpearmanrResult(correlation=-0.1452930824023476, pvalue=0.2853251926016585)\n",
      "MannwhitneyuResult(statistic=457.0, pvalue=0.27882561400558303)\n"
     ]
    }
   ],
   "source": [
    "Cleaned_Data2 = copy.deepcopy(Cleaned_Data)\n",
    "sx = 'What is your age?'\n",
    "sy= 'Points all'\n",
    "\n",
    "print(stats.spearmanr(Cleaned_Data2[sx], Cleaned_Data2[sy]))\n",
    "\n",
    "Cleaned_DataExp = copy.deepcopy(Cleaned_Data2[Cleaned_Data2[sx] <=np.median(Cleaned_Data2[sx])])\n",
    "Cleaned_DataCon = copy.deepcopy(Cleaned_Data2[Cleaned_Data2[sx] >np.median(Cleaned_Data2[sx])])\n",
    "print(stats.mannwhitneyu(Cleaned_DataExp[sy], Cleaned_DataCon[sy],\n",
    "                                                 use_continuity = False, alternative = 'two-sided'))"
   ]
  },
  {
   "cell_type": "markdown",
   "metadata": {},
   "source": [
    "### Analysis 2 and main hypothesis: increasing the awareness in flu prevention through StopTheSpread  "
   ]
  },
  {
   "cell_type": "markdown",
   "metadata": {},
   "source": [
    "#### Comparison between the different average scores"
   ]
  },
  {
   "cell_type": "code",
   "execution_count": 43,
   "metadata": {},
   "outputs": [
    {
     "name": "stdout",
     "output_type": "stream",
     "text": [
      "0.75 0.5833333333333334\n",
      "0.5227272727272727 0.5\n",
      "0.6818181818181818 0.75\n",
      "0.8409090909090909 1.0\n",
      "0.8863636363636364 0.8333333333333334\n",
      "0.7727272727272727 0.9166666666666666\n",
      "0.6022727272727273 0.638888888888889\n",
      "0.6723484848484849 0.7013888888888888\n"
     ]
    },
    {
     "data": {
      "text/plain": [
       "<BarContainer object of 16 artists>"
      ]
     },
     "execution_count": 43,
     "metadata": {},
     "output_type": "execute_result"
    },
    {
     "data": {
      "image/png": "[encoded data removed]",
      "text/plain": [
       "<Figure size 432x288 with 1 Axes>"
      ]
     },
     "metadata": {
      "needs_background": "light"
     },
     "output_type": "display_data"
    }
   ],
   "source": [
    "s= ['Is a vaccine necessary for a disease-free population?',\n",
    "       'How many times we have to typically take a flu shot? ',\n",
    "       'Is the flu shot accessible to all people? ',\n",
    "       'How does the flu spread?',\n",
    "       'Why is it important that you become immune from flu? ',\n",
    "        'What is the incubation period?',\n",
    "       'Points multiple choice', 'Points all']\n",
    "\n",
    "name = ['Q1C', 'Q1E', 'Q2C', 'Q2E','Q3C', \n",
    "        'Q3E', 'Q4C', 'Q4E', 'Q5C', 'Q5E', 'Q6C', 'Q6E','Q7C', 'Q7E', 'AllC', 'AllD']\n",
    "\n",
    "\n",
    "Cleaned_Data2 = copy.deepcopy(Cleaned_Data)\n",
    "sss = 'Condition'\n",
    "Cleaned_Data2 = Cleaned_Data2[Cleaned_Data2[sss] == 0]\n",
    "dataC = []\n",
    "for i in range(len(s)):\n",
    "    if i ==len(s)-2:\n",
    "        dataC.append(Cleaned_Data2[s[i]].mean()/6.)\n",
    "    elif i ==len(s)-1:\n",
    "        dataC.append(Cleaned_Data2[s[i]].mean()/12.)\n",
    "    else:\n",
    "        dataC.append(Cleaned_Data2[s[i]].mean())\n",
    "        \n",
    "Cleaned_Data2 = copy.deepcopy(Cleaned_Data)\n",
    "sss = 'Condition'\n",
    "Cleaned_Data2 = Cleaned_Data2[Cleaned_Data2[sss] == 1]\n",
    "dataE = []\n",
    "for i in range(len(s)):\n",
    "    if i ==len(s)-2:\n",
    "        dataE.append(Cleaned_Data2[s[i]].mean()/6.)\n",
    "    elif i ==len(s)-1:\n",
    "        dataE.append(Cleaned_Data2[s[i]].mean()/12.)\n",
    "    else:\n",
    "        dataE.append(Cleaned_Data2[s[i]].mean())\n",
    "Cleaned_Data2['Points multiple choice']=Cleaned_Data2['Points multiple choice']/6.\n",
    "\n",
    "data_corrected = []\n",
    "for i in range(len(dataC)):\n",
    "    data_corrected.append(dataC[i])\n",
    "    data_corrected.append(dataE[i])\n",
    "    print(dataC[i], dataE[i])\n",
    "    \n",
    "plt.bar(name,data_corrected)"
   ]
  },
  {
   "cell_type": "markdown",
   "metadata": {},
   "source": [
    "#### Proving that there are no statistical significant differences between control and experimental groups"
   ]
  },
  {
   "cell_type": "code",
   "execution_count": 44,
   "metadata": {},
   "outputs": [],
   "source": [
    "s= ['Is a vaccine necessary for a disease-free population?',\n",
    "       'How many times we have to typically take a flu shot? ',\n",
    "       'Is the flu shot accessible to all people? ',\n",
    "       'How does the flu spread?',\n",
    "       'Why is it important that you become immune from flu? ',\n",
    "        'What is the incubation period?',\n",
    "       'Points multiple choice', 'Points all']"
   ]
  },
  {
   "cell_type": "code",
   "execution_count": 45,
   "metadata": {},
   "outputs": [
    {
     "name": "stdout",
     "output_type": "stream",
     "text": [
      "MannwhitneyuResult(statistic=220.0, pvalue=0.2615722360139493)\n"
     ]
    }
   ],
   "source": [
    "Cleaned_Data2 = copy.deepcopy(Cleaned_Data)\n",
    "sx = 'Condition'\n",
    "sy= 'Is a vaccine necessary for a disease-free population?'\n",
    "Cleaned_DataExp = copy.deepcopy(Cleaned_Data2[Cleaned_Data2[sx] == 1])\n",
    "Cleaned_DataCon = copy.deepcopy(Cleaned_Data2[Cleaned_Data2[sx] == 0])\n",
    "print(stats.mannwhitneyu(Cleaned_DataExp[sy], Cleaned_DataCon[sy],\n",
    "                                                 use_continuity = False, alternative = 'two-sided'))"
   ]
  },
  {
   "cell_type": "code",
   "execution_count": 46,
   "metadata": {},
   "outputs": [
    {
     "name": "stdout",
     "output_type": "stream",
     "text": [
      "MannwhitneyuResult(statistic=258.0, pvalue=0.8899170793278576)\n"
     ]
    }
   ],
   "source": [
    "Cleaned_Data2 = copy.deepcopy(Cleaned_Data)\n",
    "sx = 'Condition'\n",
    "sy= 'How many times we have to typically take a flu shot? '\n",
    "Cleaned_DataExp = copy.deepcopy(Cleaned_Data2[Cleaned_Data2[sx] == 1])\n",
    "Cleaned_DataCon = copy.deepcopy(Cleaned_Data2[Cleaned_Data2[sx] == 0])\n",
    "print(stats.mannwhitneyu(Cleaned_DataExp[sy], Cleaned_DataCon[sy],\n",
    "                                                 use_continuity = False, alternative = 'two-sided'))"
   ]
  },
  {
   "cell_type": "code",
   "execution_count": 47,
   "metadata": {},
   "outputs": [
    {
     "name": "stdout",
     "output_type": "stream",
     "text": [
      "MannwhitneyuResult(statistic=282.0, pvalue=0.6518146893352635)\n"
     ]
    }
   ],
   "source": [
    "Cleaned_Data2 = copy.deepcopy(Cleaned_Data)\n",
    "sx = 'Condition'\n",
    "sy= 'Is the flu shot accessible to all people? '\n",
    "Cleaned_DataExp = copy.deepcopy(Cleaned_Data2[Cleaned_Data2[sx] == 1])\n",
    "Cleaned_DataCon = copy.deepcopy(Cleaned_Data2[Cleaned_Data2[sx] == 0])\n",
    "print(stats.mannwhitneyu(Cleaned_DataExp[sy], Cleaned_DataCon[sy],\n",
    "                                                 use_continuity = False, alternative = 'two-sided'))"
   ]
  },
  {
   "cell_type": "code",
   "execution_count": 48,
   "metadata": {},
   "outputs": [
    {
     "name": "stdout",
     "output_type": "stream",
     "text": [
      "MannwhitneyuResult(statistic=306.0, pvalue=0.14323490752466972)\n"
     ]
    }
   ],
   "source": [
    "Cleaned_Data2 = copy.deepcopy(Cleaned_Data)\n",
    "sx = 'Condition'\n",
    "sy= 'How does the flu spread?'\n",
    "Cleaned_DataExp = copy.deepcopy(Cleaned_Data2[Cleaned_Data2[sx] == 1])\n",
    "Cleaned_DataCon = copy.deepcopy(Cleaned_Data2[Cleaned_Data2[sx] == 0])\n",
    "print(stats.mannwhitneyu(Cleaned_DataExp[sy], Cleaned_DataCon[sy],\n",
    "                                                 use_continuity = False, alternative = 'two-sided'))"
   ]
  },
  {
   "cell_type": "code",
   "execution_count": 49,
   "metadata": {},
   "outputs": [
    {
     "name": "stdout",
     "output_type": "stream",
     "text": [
      "MannwhitneyuResult(statistic=250.0, pvalue=0.6255852315243253)\n"
     ]
    }
   ],
   "source": [
    "Cleaned_Data2 = copy.deepcopy(Cleaned_Data)\n",
    "sx = 'Condition'\n",
    "sy= 'Why is it important that you become immune from flu? '\n",
    "Cleaned_DataExp = copy.deepcopy(Cleaned_Data2[Cleaned_Data2[sx] == 1])\n",
    "Cleaned_DataCon = copy.deepcopy(Cleaned_Data2[Cleaned_Data2[sx] == 0])\n",
    "print(stats.mannwhitneyu(Cleaned_DataExp[sy], Cleaned_DataCon[sy],\n",
    "                                                 use_continuity = False, alternative = 'two-sided'))"
   ]
  },
  {
   "cell_type": "code",
   "execution_count": 50,
   "metadata": {},
   "outputs": [
    {
     "name": "stdout",
     "output_type": "stream",
     "text": [
      "MannwhitneyuResult(statistic=302.0, pvalue=0.27024791232304746)\n"
     ]
    }
   ],
   "source": [
    "Cleaned_Data2 = copy.deepcopy(Cleaned_Data)\n",
    "sx = 'Condition'\n",
    "sy= 'What is the incubation period?'\n",
    "Cleaned_DataExp = copy.deepcopy(Cleaned_Data2[Cleaned_Data2[sx] == 1])\n",
    "Cleaned_DataCon = copy.deepcopy(Cleaned_Data2[Cleaned_Data2[sx] == 0])\n",
    "print(stats.mannwhitneyu(Cleaned_DataExp[sy], Cleaned_DataCon[sy],\n",
    "                                                 use_continuity = False, alternative = 'two-sided'))"
   ]
  },
  {
   "cell_type": "code",
   "execution_count": 51,
   "metadata": {},
   "outputs": [
    {
     "name": "stdout",
     "output_type": "stream",
     "text": [
      "MannwhitneyuResult(statistic=276.0, pvalue=0.8076838658228029)\n"
     ]
    }
   ],
   "source": [
    "Cleaned_Data2 = copy.deepcopy(Cleaned_Data)\n",
    "sx = 'Condition'\n",
    "sy= 'Points multiple choice'\n",
    "Cleaned_DataExp = copy.deepcopy(Cleaned_Data2[Cleaned_Data2[sx] == 1])\n",
    "Cleaned_DataCon = copy.deepcopy(Cleaned_Data2[Cleaned_Data2[sx] == 0])\n",
    "print(stats.mannwhitneyu(Cleaned_DataExp[sy], Cleaned_DataCon[sy],\n",
    "                                                 use_continuity = False, alternative = 'two-sided'))"
   ]
  },
  {
   "cell_type": "code",
   "execution_count": 52,
   "metadata": {},
   "outputs": [
    {
     "name": "stdout",
     "output_type": "stream",
     "text": [
      "MannwhitneyuResult(statistic=274.0, pvalue=0.8404307406933396)\n"
     ]
    }
   ],
   "source": [
    "Cleaned_Data2 = copy.deepcopy(Cleaned_Data)\n",
    "sx = 'Condition'\n",
    "sy= 'Points all'\n",
    "Cleaned_DataExp = copy.deepcopy(Cleaned_Data2[Cleaned_Data2[sx] == 1])\n",
    "Cleaned_DataCon = copy.deepcopy(Cleaned_Data2[Cleaned_Data2[sx] == 0])\n",
    "print(stats.mannwhitneyu(Cleaned_DataExp[sy], Cleaned_DataCon[sy],\n",
    "                                                 use_continuity = False, alternative = 'two-sided'))"
   ]
  },
  {
   "cell_type": "markdown",
   "metadata": {},
   "source": [
    "### Analysis 3 (in the appendix): testing prediction based on Google Trends data.  "
   ]
  },
  {
   "cell_type": "code",
   "execution_count": 53,
   "metadata": {
    "scrolled": true
   },
   "outputs": [
    {
     "name": "stderr",
     "output_type": "stream",
     "text": [
      "/home/mat/anaconda3/lib/python3.7/site-packages/tikzplotlib/_axes.py:211: MatplotlibDeprecationWarning: Passing the minor parameter of get_xticks() positionally is deprecated since Matplotlib 3.2; the parameter will become keyword-only two minor releases later.\n",
      "  data, \"minor x\", obj.get_xticks(\"minor\"), obj.get_xticklabels(\"minor\")\n",
      "/home/mat/anaconda3/lib/python3.7/site-packages/tikzplotlib/_axes.py:216: MatplotlibDeprecationWarning: Passing the minor parameter of get_yticks() positionally is deprecated since Matplotlib 3.2; the parameter will become keyword-only two minor releases later.\n",
      "  data, \"minor y\", obj.get_yticks(\"minor\"), obj.get_yticklabels(\"minor\")\n"
     ]
    },
    {
     "data": {
      "image/png": "[encoded data removed]",
      "text/plain": [
       "<Figure size 432x288 with 1 Axes>"
      ]
     },
     "metadata": {
      "needs_background": "light"
     },
     "output_type": "display_data"
    }
   ],
   "source": [
    "Cleaned_Data2 = copy.deepcopy(Cleaned_Data)\n",
    "Cleaned_Data2['PointsQ4Q5Q6'].tolist()\n",
    "data = {'Condition':['PointsQ1Q2Q3' for i in range(len(Cleaned_Data2['PointsQ1Q2Q3'].tolist()))]+['PointsQ4Q5Q6' for i in range(len(Cleaned_Data2['PointsQ4Q5Q6'].tolist()))],\n",
    "        'Points':Cleaned_Data2['PointsQ1Q2Q3'].tolist()+Cleaned_Data2['PointsQ4Q5Q6'].tolist()} \n",
    "  \n",
    "df = pd.DataFrame(data) \n",
    "df.head()\n",
    "sx = 'Condition'\n",
    "sy= 'Points'\n",
    "sns.boxplot(y=sy, x=sx, \n",
    "                 data=df, \n",
    "                 width=0.5,\n",
    "                 palette=\"colorblind\")\n",
    "tikzplotlib.save(\"./Output/Plots/Comparison_PointsQ1Q2Q3_PointsQ4Q5Q6.tex\")"
   ]
  },
  {
   "cell_type": "code",
   "execution_count": 54,
   "metadata": {},
   "outputs": [
    {
     "data": {
      "text/plain": [
       "WilcoxonResult(statistic=66.5, pvalue=0.00014868368058768813)"
      ]
     },
     "execution_count": 54,
     "metadata": {},
     "output_type": "execute_result"
    }
   ],
   "source": [
    "sy= 'Points'\n",
    "Cleaned_DataQ4Q5Q6 = copy.deepcopy(df[df[sx] == 'PointsQ1Q2Q3'])\n",
    "Cleaned_DataQ1Q2Q3 = copy.deepcopy(df[df[sx] == 'PointsQ4Q5Q6'])\n",
    "stats.wilcoxon(Cleaned_DataQ4Q5Q6[sy], Cleaned_DataQ1Q2Q3[sy])"
   ]
  },
  {
   "cell_type": "markdown",
   "metadata": {},
   "source": [
    "#### Compute Cliff's delta"
   ]
  },
  {
   "cell_type": "code",
   "execution_count": 55,
   "metadata": {},
   "outputs": [
    {
     "name": "stdout",
     "output_type": "stream",
     "text": [
      "56 56\n",
      "0.5149872448979592\n"
     ]
    }
   ],
   "source": [
    "Cleaned_DataQ1Q2Q3 = copy.deepcopy(df[df[sx] == 'PointsQ1Q2Q3'])\n",
    "Cleaned_DataQ4Q5Q6 = copy.deepcopy(df[df[sx] == 'PointsQ4Q5Q6'])\n",
    "print(len(Cleaned_DataQ4Q5Q6[sy].to_list()), len(Cleaned_DataQ1Q2Q3[sy].to_list()))\n",
    "pQ4Q5Q6GQ1Q2Q3, pQ1Q2Q3GQ4Q5Q6 = 0, 0\n",
    "listQ4Q5Q6 = Cleaned_DataQ4Q5Q6[sy].to_list()\n",
    "listQ1Q2Q3 = Cleaned_DataQ1Q2Q3[sy].to_list()\n",
    "for i in range(len(listQ4Q5Q6)):\n",
    "    for j in range(len(listQ1Q2Q3)):\n",
    "        if listQ4Q5Q6[i]>listQ1Q2Q3[j]:\n",
    "            pQ4Q5Q6GQ1Q2Q3+=1\n",
    "print(float(pQ4Q5Q6GQ1Q2Q3-pQ1Q2Q3GQ4Q5Q6)/len(listQ4Q5Q6)/len(listQ1Q2Q3)) "
   ]
  },
  {
   "cell_type": "code",
   "execution_count": null,
   "metadata": {},
   "outputs": [],
   "source": []
  },
  {
   "cell_type": "code",
   "execution_count": null,
   "metadata": {},
   "outputs": [],
   "source": []
  },
  {
   "cell_type": "code",
   "execution_count": null,
   "metadata": {},
   "outputs": [],
   "source": []
  },
  {
   "cell_type": "code",
   "execution_count": null,
   "metadata": {},
   "outputs": [],
   "source": []
  },
  {
   "cell_type": "code",
   "execution_count": null,
   "metadata": {},
   "outputs": [],
   "source": []
  },
  {
   "cell_type": "code",
   "execution_count": null,
   "metadata": {},
   "outputs": [],
   "source": []
  },
  {
   "cell_type": "code",
   "execution_count": null,
   "metadata": {},
   "outputs": [],
   "source": []
  },
  {
   "cell_type": "code",
   "execution_count": null,
   "metadata": {},
   "outputs": [],
   "source": []
  }
 ],
 "metadata": {
  "kernelspec": {
   "display_name": "Python 3",
   "language": "python",
   "name": "python3"
  },
  "language_info": {
   "codemirror_mode": {
    "name": "ipython",
    "version": 3
   },
   "file_extension": ".py",
   "mimetype": "text/x-python",
   "name": "python",
   "nbconvert_exporter": "python",
   "pygments_lexer": "ipython3",
   "version": "3.7.7"
  }
 },
 "nbformat": 4,
 "nbformat_minor": 4
}
